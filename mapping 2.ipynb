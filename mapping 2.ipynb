{
 "cells": [
  {
   "cell_type": "code",
   "execution_count": 1,
   "metadata": {},
   "outputs": [],
   "source": [
    "import pandas as pd\n",
    "import pendulum\n",
    "from sklearn.preprocessing import MultiLabelBinarizer"
   ]
  },
  {
   "cell_type": "code",
   "execution_count": 270,
   "metadata": {},
   "outputs": [],
   "source": [
    "stock_df = pd.read_csv(\"./stock_price_F.csv\")\n",
    "sentiment_df = pd.read_csv(\"./SintimentOP.csv\")\n",
    "sentiment_df= sentiment_df[['Sentiment','neutral', 'positive', 'negative', 'TimeUpDated']]\n",
    "sentiment_df[['neutral', 'positive', 'negative']] = sentiment_df[['neutral', 'positive', 'negative']].fillna(0)"
   ]
  },
  {
   "cell_type": "code",
   "execution_count": 271,
   "metadata": {},
   "outputs": [],
   "source": [
    "stock_df[\"Date\"] = stock_df[\"Date\"].apply(lambda x: pendulum.from_format(x[0:10], \"YYYY-MM-DD\").start_of(\"week\"))\n",
    "sentiment_df[\"Time\"] = sentiment_df[\"TimeUpDated\"].apply(lambda x: pendulum.from_format(x, \"DD-MMM-YY\").start_of(\"week\"))"
   ]
  },
  {
   "cell_type": "code",
   "execution_count": 272,
   "metadata": {},
   "outputs": [],
   "source": [
    "date_grouped_df = sentiment_df.groupby(\"Time\").agg(list).reset_index()\n",
    "date_grouped_df=date_grouped_df[['Time','Sentiment', 'neutral', 'positive', 'negative']]\n",
    "date_grouped_df = date_grouped_df.rename(columns={\"Time\":\"Date\"})"
   ]
  },
  {
   "cell_type": "code",
   "execution_count": 273,
   "metadata": {},
   "outputs": [],
   "source": [
    "result = pd.merge(stock_df, date_grouped_df, how=\"outer\", on=[\"Date\"])\n",
    "result[\"POSITIVE\"] = result[\"positive\"].apply(lambda x: max(x) if isinstance(x,list) else x)\n",
    "result[\"NEGATIVE\"] = result[\"negative\"].apply(lambda x: max(x) if isinstance(x,list) else x)\n",
    "result[\"NEUTRAL\"] = result[\"neutral\"].apply(lambda x: max(x) if isinstance(x,list) else x)"
   ]
  },
  {
   "cell_type": "code",
   "execution_count": 274,
   "metadata": {},
   "outputs": [
    {
     "name": "stdout",
     "output_type": "stream",
     "text": [
      "(54, 8) (52, 5)\n"
     ]
    }
   ],
   "source": [
    "print(stock_df.shape,date_grouped_df.shape)\n",
    "result.drop(result.tail(1).index,\n",
    "        inplace = True)"
   ]
  },
  {
   "cell_type": "code",
   "execution_count": 275,
   "metadata": {},
   "outputs": [
    {
     "data": {
      "text/html": [
       "<div>\n",
       "<style scoped>\n",
       "    .dataframe tbody tr th:only-of-type {\n",
       "        vertical-align: middle;\n",
       "    }\n",
       "\n",
       "    .dataframe tbody tr th {\n",
       "        vertical-align: top;\n",
       "    }\n",
       "\n",
       "    .dataframe thead th {\n",
       "        text-align: right;\n",
       "    }\n",
       "</style>\n",
       "<table border=\"1\" class=\"dataframe\">\n",
       "  <thead>\n",
       "    <tr style=\"text-align: right;\">\n",
       "      <th></th>\n",
       "      <th>Date</th>\n",
       "      <th>Open</th>\n",
       "      <th>High</th>\n",
       "      <th>Low</th>\n",
       "      <th>Close</th>\n",
       "      <th>Volume</th>\n",
       "      <th>Dividends</th>\n",
       "      <th>Stock Splits</th>\n",
       "      <th>Sentiment</th>\n",
       "      <th>neutral</th>\n",
       "      <th>positive</th>\n",
       "      <th>negative</th>\n",
       "      <th>POSITIVE</th>\n",
       "      <th>NEGATIVE</th>\n",
       "      <th>NEUTRAL</th>\n",
       "    </tr>\n",
       "  </thead>\n",
       "  <tbody>\n",
       "    <tr>\n",
       "      <th>50</th>\n",
       "      <td>2023-12-18 00:00:00+00:00</td>\n",
       "      <td>11.99</td>\n",
       "      <td>12.46</td>\n",
       "      <td>11.79</td>\n",
       "      <td>12.35</td>\n",
       "      <td>244271600</td>\n",
       "      <td>0.0</td>\n",
       "      <td>0</td>\n",
       "      <td>[{'negative': 0.9121586084365845, 'neutral': 0...</td>\n",
       "      <td>[0.9478311538696288, 0.948502779006958, 0.9452...</td>\n",
       "      <td>[0.958598792552948, 0.0, 0.9579848647117616, 0...</td>\n",
       "      <td>[0.9121586084365844, 0.9753839373588562, 0.975...</td>\n",
       "      <td>0.958599</td>\n",
       "      <td>0.976122</td>\n",
       "      <td>0.948503</td>\n",
       "    </tr>\n",
       "    <tr>\n",
       "      <th>51</th>\n",
       "      <td>2023-12-25 00:00:00+00:00</td>\n",
       "      <td>12.39</td>\n",
       "      <td>12.50</td>\n",
       "      <td>12.16</td>\n",
       "      <td>12.19</td>\n",
       "      <td>133775900</td>\n",
       "      <td>0.0</td>\n",
       "      <td>0</td>\n",
       "      <td>[{'negative': 0.9754379391670227, 'neutral': 0...</td>\n",
       "      <td>[0.9478311538696288, 0.947828471660614, 0.9567...</td>\n",
       "      <td>[0.9525155425071716, 0.9577768445014954, 0.949...</td>\n",
       "      <td>[0.9754379391670228, 0.959048330783844, 0.9702...</td>\n",
       "      <td>0.957777</td>\n",
       "      <td>0.976017</td>\n",
       "      <td>0.956757</td>\n",
       "    </tr>\n",
       "    <tr>\n",
       "      <th>52</th>\n",
       "      <td>2024-01-01 00:00:00+00:00</td>\n",
       "      <td>12.04</td>\n",
       "      <td>12.38</td>\n",
       "      <td>11.63</td>\n",
       "      <td>11.85</td>\n",
       "      <td>216944500</td>\n",
       "      <td>0.0</td>\n",
       "      <td>0</td>\n",
       "      <td>NaN</td>\n",
       "      <td>NaN</td>\n",
       "      <td>NaN</td>\n",
       "      <td>NaN</td>\n",
       "      <td>NaN</td>\n",
       "      <td>NaN</td>\n",
       "      <td>NaN</td>\n",
       "    </tr>\n",
       "  </tbody>\n",
       "</table>\n",
       "</div>"
      ],
      "text/plain": [
       "                        Date   Open   High    Low  Close     Volume  \\\n",
       "50 2023-12-18 00:00:00+00:00  11.99  12.46  11.79  12.35  244271600   \n",
       "51 2023-12-25 00:00:00+00:00  12.39  12.50  12.16  12.19  133775900   \n",
       "52 2024-01-01 00:00:00+00:00  12.04  12.38  11.63  11.85  216944500   \n",
       "\n",
       "    Dividends  Stock Splits  \\\n",
       "50        0.0             0   \n",
       "51        0.0             0   \n",
       "52        0.0             0   \n",
       "\n",
       "                                            Sentiment  \\\n",
       "50  [{'negative': 0.9121586084365845, 'neutral': 0...   \n",
       "51  [{'negative': 0.9754379391670227, 'neutral': 0...   \n",
       "52                                                NaN   \n",
       "\n",
       "                                              neutral  \\\n",
       "50  [0.9478311538696288, 0.948502779006958, 0.9452...   \n",
       "51  [0.9478311538696288, 0.947828471660614, 0.9567...   \n",
       "52                                                NaN   \n",
       "\n",
       "                                             positive  \\\n",
       "50  [0.958598792552948, 0.0, 0.9579848647117616, 0...   \n",
       "51  [0.9525155425071716, 0.9577768445014954, 0.949...   \n",
       "52                                                NaN   \n",
       "\n",
       "                                             negative  POSITIVE  NEGATIVE  \\\n",
       "50  [0.9121586084365844, 0.9753839373588562, 0.975...  0.958599  0.976122   \n",
       "51  [0.9754379391670228, 0.959048330783844, 0.9702...  0.957777  0.976017   \n",
       "52                                                NaN       NaN       NaN   \n",
       "\n",
       "     NEUTRAL  \n",
       "50  0.948503  \n",
       "51  0.956757  \n",
       "52       NaN  "
      ]
     },
     "execution_count": 275,
     "metadata": {},
     "output_type": "execute_result"
    }
   ],
   "source": [
    "result.tail(3)"
   ]
  },
  {
   "cell_type": "code",
   "execution_count": 276,
   "metadata": {},
   "outputs": [],
   "source": [
    "result.to_csv(\"Ford_with_sentiment_scores.csv\")"
   ]
  },
  {
   "cell_type": "code",
   "execution_count": 277,
   "metadata": {},
   "outputs": [],
   "source": [
    "emotion_df = pd.read_csv(\"./nehal/latest_content/fordnewstitle_cleaned_emotion.csv\")\n",
    "emotion_df = emotion_df[['Time','label_1','score_1', 'label_2', 'score_2']]\n",
    "emotion_df[['score_1', 'score_2']] = emotion_df[['score_1', 'score_2']].fillna(0)"
   ]
  },
  {
   "cell_type": "code",
   "execution_count": 278,
   "metadata": {},
   "outputs": [],
   "source": [
    "emotion_df[\"Time\"] = emotion_df[\"Time\"].apply(lambda x: pendulum.from_format(x, \"DD-MMM-YY\").start_of(\"week\"))"
   ]
  },
  {
   "cell_type": "code",
   "execution_count": 279,
   "metadata": {},
   "outputs": [],
   "source": [
    "emotion_grouped = emotion_df.groupby(\"Time\").agg(list).reset_index()\n",
    "emotion_grouped=emotion_grouped[['Time', 'label_1', 'label_2']]\n",
    "emotion_grouped = emotion_grouped.rename(columns={\"Time\":\"Date\",\"label_1\":\"primary\",\"label_2\":\"secondary\"})"
   ]
  },
  {
   "cell_type": "code",
   "execution_count": 280,
   "metadata": {},
   "outputs": [],
   "source": [
    "emotion_grouped[\"primary\"] = emotion_grouped[\"primary\"].apply(lambda x: list(set(x)))\n",
    "emotion_grouped[\"secondary\"] = emotion_grouped[\"secondary\"].apply(lambda x: list(set(x)))"
   ]
  },
  {
   "cell_type": "code",
   "execution_count": 281,
   "metadata": {},
   "outputs": [],
   "source": [
    "mlb = MultiLabelBinarizer(sparse_output=True)"
   ]
  },
  {
   "cell_type": "code",
   "execution_count": 282,
   "metadata": {},
   "outputs": [],
   "source": [
    "emotion_grouped = emotion_grouped.join(\n",
    "            pd.DataFrame.sparse.from_spmatrix(\n",
    "                mlb.fit_transform(emotion_grouped.pop('primary')),\n",
    "                index=emotion_grouped.index,\n",
    "                columns=mlb.classes_))"
   ]
  },
  {
   "cell_type": "code",
   "execution_count": 283,
   "metadata": {},
   "outputs": [],
   "source": [
    "emotion_grouped= emotion_grouped.rename(columns={\"anger\":\"primary_anger\",\"fear\":\"primary_fear\",\"joy\":\"primary_joy\",\\\n",
    "                                                 \"neutral\":\"primary_neutral\",\"sadness\":\"primary_sadness\",\\\n",
    "                                                    \"surprise\":\"primary_surprise\"})"
   ]
  },
  {
   "cell_type": "code",
   "execution_count": 284,
   "metadata": {},
   "outputs": [],
   "source": [
    "emotion_grouped = emotion_grouped.join(\n",
    "            pd.DataFrame.sparse.from_spmatrix(\n",
    "                mlb.fit_transform(emotion_grouped.pop('secondary')),\n",
    "                index=emotion_grouped.index,\n",
    "                columns=mlb.classes_))"
   ]
  },
  {
   "cell_type": "code",
   "execution_count": 285,
   "metadata": {},
   "outputs": [],
   "source": [
    "emotion_grouped= emotion_grouped.rename(columns={\"anger\":\"secondary_anger\",\"fear\":\"secondary_fear\",\"joy\":\"secondary_joy\",\\\n",
    "                                                 \"neutral\":\"secondary_neutral\",\"sadness\":\"secondary_sadness\",\\\n",
    "                                                    \"surprise\":\"secondary_surprise\"})"
   ]
  },
  {
   "cell_type": "code",
   "execution_count": 286,
   "metadata": {},
   "outputs": [],
   "source": [
    "final_df = pd.merge(result, emotion_grouped, how=\"outer\", on=[\"Date\"])"
   ]
  },
  {
   "cell_type": "code",
   "execution_count": 288,
   "metadata": {},
   "outputs": [],
   "source": [
    "target_column = list(final_df[\"Close\"])[1:]\n",
    "final_df.drop(final_df.tail(1).index,\n",
    "        inplace = True)\n",
    "final_df[\"Target_closing_price\"] = target_column"
   ]
  },
  {
   "cell_type": "code",
   "execution_count": 289,
   "metadata": {},
   "outputs": [
    {
     "data": {
      "text/plain": [
       "(52, 28)"
      ]
     },
     "execution_count": 289,
     "metadata": {},
     "output_type": "execute_result"
    }
   ],
   "source": [
    "final_df.shape"
   ]
  },
  {
   "cell_type": "code",
   "execution_count": 290,
   "metadata": {},
   "outputs": [
    {
     "data": {
      "text/html": [
       "<div>\n",
       "<style scoped>\n",
       "    .dataframe tbody tr th:only-of-type {\n",
       "        vertical-align: middle;\n",
       "    }\n",
       "\n",
       "    .dataframe tbody tr th {\n",
       "        vertical-align: top;\n",
       "    }\n",
       "\n",
       "    .dataframe thead th {\n",
       "        text-align: right;\n",
       "    }\n",
       "</style>\n",
       "<table border=\"1\" class=\"dataframe\">\n",
       "  <thead>\n",
       "    <tr style=\"text-align: right;\">\n",
       "      <th></th>\n",
       "      <th>Date</th>\n",
       "      <th>Open</th>\n",
       "      <th>High</th>\n",
       "      <th>Low</th>\n",
       "      <th>Close</th>\n",
       "      <th>Volume</th>\n",
       "      <th>Dividends</th>\n",
       "      <th>Stock Splits</th>\n",
       "      <th>Sentiment</th>\n",
       "      <th>neutral</th>\n",
       "      <th>...</th>\n",
       "      <th>primary_neutral</th>\n",
       "      <th>primary_sadness</th>\n",
       "      <th>primary_surprise</th>\n",
       "      <th>secondary_anger</th>\n",
       "      <th>secondary_fear</th>\n",
       "      <th>secondary_joy</th>\n",
       "      <th>secondary_neutral</th>\n",
       "      <th>secondary_sadness</th>\n",
       "      <th>secondary_surprise</th>\n",
       "      <th>Target_closing_price</th>\n",
       "    </tr>\n",
       "  </thead>\n",
       "  <tbody>\n",
       "    <tr>\n",
       "      <th>49</th>\n",
       "      <td>2023-12-11 00:00:00+00:00</td>\n",
       "      <td>11.02</td>\n",
       "      <td>12.18</td>\n",
       "      <td>10.80</td>\n",
       "      <td>12.02</td>\n",
       "      <td>344023100</td>\n",
       "      <td>0.0</td>\n",
       "      <td>0</td>\n",
       "      <td>[{'negative': 0.9780202507972717, 'neutral': 0...</td>\n",
       "      <td>[0.9478311538696288, 0.953544557094574, 0.9497...</td>\n",
       "      <td>...</td>\n",
       "      <td>1.0</td>\n",
       "      <td>1.0</td>\n",
       "      <td>1.0</td>\n",
       "      <td>0.0</td>\n",
       "      <td>0.0</td>\n",
       "      <td>1.0</td>\n",
       "      <td>1.0</td>\n",
       "      <td>0.0</td>\n",
       "      <td>1.0</td>\n",
       "      <td>12.35</td>\n",
       "    </tr>\n",
       "    <tr>\n",
       "      <th>50</th>\n",
       "      <td>2023-12-18 00:00:00+00:00</td>\n",
       "      <td>11.99</td>\n",
       "      <td>12.46</td>\n",
       "      <td>11.79</td>\n",
       "      <td>12.35</td>\n",
       "      <td>244271600</td>\n",
       "      <td>0.0</td>\n",
       "      <td>0</td>\n",
       "      <td>[{'negative': 0.9121586084365845, 'neutral': 0...</td>\n",
       "      <td>[0.9478311538696288, 0.948502779006958, 0.9452...</td>\n",
       "      <td>...</td>\n",
       "      <td>1.0</td>\n",
       "      <td>1.0</td>\n",
       "      <td>0.0</td>\n",
       "      <td>0.0</td>\n",
       "      <td>0.0</td>\n",
       "      <td>0.0</td>\n",
       "      <td>1.0</td>\n",
       "      <td>1.0</td>\n",
       "      <td>1.0</td>\n",
       "      <td>12.19</td>\n",
       "    </tr>\n",
       "    <tr>\n",
       "      <th>51</th>\n",
       "      <td>2023-12-25 00:00:00+00:00</td>\n",
       "      <td>12.39</td>\n",
       "      <td>12.50</td>\n",
       "      <td>12.16</td>\n",
       "      <td>12.19</td>\n",
       "      <td>133775900</td>\n",
       "      <td>0.0</td>\n",
       "      <td>0</td>\n",
       "      <td>[{'negative': 0.9754379391670227, 'neutral': 0...</td>\n",
       "      <td>[0.9478311538696288, 0.947828471660614, 0.9567...</td>\n",
       "      <td>...</td>\n",
       "      <td>1.0</td>\n",
       "      <td>1.0</td>\n",
       "      <td>0.0</td>\n",
       "      <td>1.0</td>\n",
       "      <td>0.0</td>\n",
       "      <td>0.0</td>\n",
       "      <td>0.0</td>\n",
       "      <td>0.0</td>\n",
       "      <td>1.0</td>\n",
       "      <td>11.85</td>\n",
       "    </tr>\n",
       "  </tbody>\n",
       "</table>\n",
       "<p>3 rows × 28 columns</p>\n",
       "</div>"
      ],
      "text/plain": [
       "                        Date   Open   High    Low  Close     Volume  \\\n",
       "49 2023-12-11 00:00:00+00:00  11.02  12.18  10.80  12.02  344023100   \n",
       "50 2023-12-18 00:00:00+00:00  11.99  12.46  11.79  12.35  244271600   \n",
       "51 2023-12-25 00:00:00+00:00  12.39  12.50  12.16  12.19  133775900   \n",
       "\n",
       "    Dividends  Stock Splits  \\\n",
       "49        0.0             0   \n",
       "50        0.0             0   \n",
       "51        0.0             0   \n",
       "\n",
       "                                            Sentiment  \\\n",
       "49  [{'negative': 0.9780202507972717, 'neutral': 0...   \n",
       "50  [{'negative': 0.9121586084365845, 'neutral': 0...   \n",
       "51  [{'negative': 0.9754379391670227, 'neutral': 0...   \n",
       "\n",
       "                                              neutral  ... primary_neutral  \\\n",
       "49  [0.9478311538696288, 0.953544557094574, 0.9497...  ...             1.0   \n",
       "50  [0.9478311538696288, 0.948502779006958, 0.9452...  ...             1.0   \n",
       "51  [0.9478311538696288, 0.947828471660614, 0.9567...  ...             1.0   \n",
       "\n",
       "   primary_sadness  primary_surprise  secondary_anger  secondary_fear  \\\n",
       "49             1.0               1.0              0.0             0.0   \n",
       "50             1.0               0.0              0.0             0.0   \n",
       "51             1.0               0.0              1.0             0.0   \n",
       "\n",
       "    secondary_joy  secondary_neutral  secondary_sadness  secondary_surprise  \\\n",
       "49            1.0                1.0                0.0                 1.0   \n",
       "50            0.0                1.0                1.0                 1.0   \n",
       "51            0.0                0.0                0.0                 1.0   \n",
       "\n",
       "    Target_closing_price  \n",
       "49                 12.35  \n",
       "50                 12.19  \n",
       "51                 11.85  \n",
       "\n",
       "[3 rows x 28 columns]"
      ]
     },
     "execution_count": 290,
     "metadata": {},
     "output_type": "execute_result"
    }
   ],
   "source": [
    "final_df.tail(3)"
   ]
  },
  {
   "cell_type": "code",
   "execution_count": 291,
   "metadata": {},
   "outputs": [
    {
     "name": "stderr",
     "output_type": "stream",
     "text": [
      "C:\\Users\\Thrinath Nelaturi\\AppData\\Local\\Temp\\ipykernel_22876\\2122709096.py:1: FutureWarning: The behavior of .astype from SparseDtype to a non-sparse dtype is deprecated. In a future version, this will return a non-sparse array with the requested dtype. To retain the old behavior, use `obj.astype(SparseDtype(dtype))`\n",
      "  final_df.to_csv(\"./final_ford_analysis_data.csv\")\n"
     ]
    }
   ],
   "source": [
    "final_df.to_csv(\"./final_ford_analysis_data.csv\")"
   ]
  },
  {
   "cell_type": "code",
   "execution_count": null,
   "metadata": {},
   "outputs": [],
   "source": []
  }
 ],
 "metadata": {
  "kernelspec": {
   "display_name": "intro_python",
   "language": "python",
   "name": "python3"
  },
  "language_info": {
   "codemirror_mode": {
    "name": "ipython",
    "version": 3
   },
   "file_extension": ".py",
   "mimetype": "text/x-python",
   "name": "python",
   "nbconvert_exporter": "python",
   "pygments_lexer": "ipython3",
   "version": "3.10.11"
  }
 },
 "nbformat": 4,
 "nbformat_minor": 2
}
