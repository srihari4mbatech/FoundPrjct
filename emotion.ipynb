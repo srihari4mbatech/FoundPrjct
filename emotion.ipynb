{
 "cells": [
  {
   "cell_type": "code",
   "execution_count": 1,
   "metadata": {},
   "outputs": [
    {
     "name": "stderr",
     "output_type": "stream",
     "text": [
      "c:\\Users\\Thrinath Nelaturi\\anaconda3\\envs\\intro_python\\lib\\site-packages\\tqdm\\auto.py:21: TqdmWarning: IProgress not found. Please update jupyter and ipywidgets. See https://ipywidgets.readthedocs.io/en/stable/user_install.html\n",
      "  from .autonotebook import tqdm as notebook_tqdm\n"
     ]
    },
    {
     "name": "stdout",
     "output_type": "stream",
     "text": [
      "WARNING:tensorflow:From c:\\Users\\Thrinath Nelaturi\\anaconda3\\envs\\intro_python\\lib\\site-packages\\keras\\src\\losses.py:2976: The name tf.losses.sparse_softmax_cross_entropy is deprecated. Please use tf.compat.v1.losses.sparse_softmax_cross_entropy instead.\n",
      "\n"
     ]
    },
    {
     "name": "stderr",
     "output_type": "stream",
     "text": [
      "[nltk_data] Downloading package stopwords to C:\\Users\\Thrinath\n",
      "[nltk_data]     Nelaturi\\AppData\\Roaming\\nltk_data...\n",
      "[nltk_data]   Package stopwords is already up-to-date!\n"
     ]
    },
    {
     "data": {
      "text/plain": [
       "True"
      ]
     },
     "execution_count": 1,
     "metadata": {},
     "output_type": "execute_result"
    }
   ],
   "source": [
    "import pandas as pd\n",
    "import nltk\n",
    "import re\n",
    "import numpy as np\n",
    "from transformers import pipeline\n",
    "import torch\n",
    "nltk.download('stopwords')\n"
   ]
  },
  {
   "cell_type": "code",
   "execution_count": 6,
   "metadata": {},
   "outputs": [
    {
     "name": "stderr",
     "output_type": "stream",
     "text": [
      "config.json: 100%|██████████| 1.00k/1.00k [00:00<00:00, 503kB/s]\n",
      "c:\\Users\\Thrinath Nelaturi\\anaconda3\\envs\\intro_python\\lib\\site-packages\\huggingface_hub\\file_download.py:149: UserWarning: `huggingface_hub` cache-system uses symlinks by default to efficiently store duplicated files but your machine does not support them in C:\\Users\\Thrinath Nelaturi\\.cache\\huggingface\\hub\\models--j-hartmann--emotion-english-distilroberta-base. Caching files will still work but in a degraded version that might require more space on your disk. This warning can be disabled by setting the `HF_HUB_DISABLE_SYMLINKS_WARNING` environment variable. For more details, see https://huggingface.co/docs/huggingface_hub/how-to-cache#limitations.\n",
      "To support symlinks on Windows, you either need to activate Developer Mode or to run Python as an administrator. In order to see activate developer mode, see this article: https://docs.microsoft.com/en-us/windows/apps/get-started/enable-your-device-for-development\n",
      "  warnings.warn(message)\n",
      "pytorch_model.bin: 100%|██████████| 329M/329M [00:29<00:00, 11.2MB/s] \n",
      "tokenizer_config.json: 100%|██████████| 294/294 [00:00<00:00, 147kB/s]\n",
      "vocab.json: 100%|██████████| 798k/798k [00:00<00:00, 3.20MB/s]\n",
      "merges.txt: 100%|██████████| 456k/456k [00:00<00:00, 1.11MB/s]\n",
      "tokenizer.json: 100%|██████████| 1.36M/1.36M [00:00<00:00, 5.37MB/s]\n",
      "special_tokens_map.json: 100%|██████████| 239/239 [00:00<00:00, 235kB/s]\n",
      "c:\\Users\\Thrinath Nelaturi\\anaconda3\\envs\\intro_python\\lib\\site-packages\\transformers\\pipelines\\text_classification.py:105: UserWarning: `return_all_scores` is now deprecated,  if want a similar functionality use `top_k=None` instead of `return_all_scores=True` or `top_k=1` instead of `return_all_scores=False`.\n",
      "  warnings.warn(\n"
     ]
    }
   ],
   "source": [
    "emotionModel = pipeline(\"text-classification\", model=\"j-hartmann/emotion-english-distilroberta-base\", return_all_scores=True)"
   ]
  },
  {
   "cell_type": "code",
   "execution_count": 8,
   "metadata": {},
   "outputs": [],
   "source": [
    "torch.save(emotionModel,\"emotion.pt\")"
   ]
  },
  {
   "cell_type": "code",
   "execution_count": 2,
   "metadata": {},
   "outputs": [],
   "source": [
    "emodel = torch.load(\"emotion.pt\")"
   ]
  },
  {
   "cell_type": "code",
   "execution_count": 3,
   "metadata": {},
   "outputs": [
    {
     "name": "stderr",
     "output_type": "stream",
     "text": [
      "[nltk_data] Downloading package punkt to C:\\Users\\Thrinath\n",
      "[nltk_data]     Nelaturi\\AppData\\Roaming\\nltk_data...\n",
      "[nltk_data]   Package punkt is already up-to-date!\n",
      "[nltk_data] Downloading package stopwords to C:\\Users\\Thrinath\n",
      "[nltk_data]     Nelaturi\\AppData\\Roaming\\nltk_data...\n",
      "[nltk_data]   Package stopwords is already up-to-date!\n"
     ]
    }
   ],
   "source": [
    " \n",
    "nltk.download('punkt')\n",
    "nltk.download('stopwords')\n",
    "stop_words = nltk.corpus.stopwords.words('english')"
   ]
  },
  {
   "cell_type": "code",
   "execution_count": 4,
   "metadata": {},
   "outputs": [],
   "source": [
    "def normalize_document(doc):\n",
    "    # lower case and remove special characters\\whitespaces\n",
    "    doc = re.sub(r'[^a-zA-Z\\s]', '', doc, re.I|re.A)\n",
    "    doc = doc.lower()\n",
    "    doc = doc.strip()\n",
    "    # tokenize document\n",
    "    tokens = nltk.word_tokenize(doc)\n",
    "    # filter stopwords out of document\n",
    "    filtered_tokens = [token for token in tokens if token not in stop_words]\n",
    "    # re-create document from filtered tokens\n",
    "    doc = ' '.join(filtered_tokens)\n",
    "    return doc"
   ]
  },
  {
   "cell_type": "code",
   "execution_count": 10,
   "metadata": {},
   "outputs": [],
   "source": [
    "def get_top_emotions(text, n=2):\n",
    "    emotions = emodel(text)\n",
    "    if emotions and emotions[0]:\n",
    "        # Sorting emotions based on scores in descending order\n",
    "        sorted_emotions = sorted(emotions[0], key=lambda x: x['score'], reverse=True)\n",
    "        # Extracting the top n emotions and their scores\n",
    "        top_emotions = [(emotion.get('label'), emotion.get('score')) for emotion in sorted_emotions[:n]]\n",
    "        return top_emotions"
   ]
  },
  {
   "cell_type": "code",
   "execution_count": 11,
   "metadata": {},
   "outputs": [],
   "source": [
    "given_text = [\"he is a good person\",\"he is a bad person\",\"they are good \",\"they are bad\"]"
   ]
  },
  {
   "cell_type": "code",
   "execution_count": 12,
   "metadata": {},
   "outputs": [],
   "source": [
    "primary_emotion = []\n",
    "secondary_emotion = []"
   ]
  },
  {
   "cell_type": "code",
   "execution_count": 13,
   "metadata": {},
   "outputs": [],
   "source": [
    "primary_emotion = []\n",
    "secondary_emotion = []\n",
    "for k in given_text:\n",
    "    given_text = normalize_document(k)\n",
    "    emothon_output = get_top_emotions(k, n=2)\n",
    "    primary_emotion.append(emothon_output[0][0])\n",
    "    secondary_emotion.append(emothon_output[1][0])\n",
    "    "
   ]
  },
  {
   "cell_type": "code",
   "execution_count": 14,
   "metadata": {},
   "outputs": [
    {
     "data": {
      "text/plain": [
       "[1, 1, 1, 0, 0, 1, 0, 1, 1, 0]"
      ]
     },
     "execution_count": 14,
     "metadata": {},
     "output_type": "execute_result"
    }
   ],
   "source": [
    "a = list(set(primary_emotion))\n",
    "b = list(set(secondary_emotion))\n",
    "check = ['joy', 'disgust', 'neutral','anger','surprise']\n",
    "\n",
    "final_primary_list =[]\n",
    "for i in check:\n",
    "    if i in a:\n",
    "        final_primary_list.append(1)\n",
    "    else:\n",
    "        final_primary_list.append(0)\n",
    "\n",
    "final_secondary_list =[]\n",
    "for i in check:\n",
    "    if i in b:\n",
    "        final_secondary_list.append(1)\n",
    "    else:\n",
    "        final_secondary_list.append(0)\n",
    "final_primary_list + final_secondary_list"
   ]
  },
  {
   "cell_type": "markdown",
   "metadata": {},
   "source": [
    "## Inference "
   ]
  },
  {
   "cell_type": "code",
   "execution_count": 15,
   "metadata": {},
   "outputs": [
    {
     "name": "stderr",
     "output_type": "stream",
     "text": [
      "[nltk_data] Downloading package punkt to C:\\Users\\Thrinath\n",
      "[nltk_data]     Nelaturi\\AppData\\Roaming\\nltk_data...\n",
      "[nltk_data]   Package punkt is already up-to-date!\n",
      "[nltk_data] Downloading package stopwords to C:\\Users\\Thrinath\n",
      "[nltk_data]     Nelaturi\\AppData\\Roaming\\nltk_data...\n",
      "[nltk_data]   Package stopwords is already up-to-date!\n"
     ]
    }
   ],
   "source": [
    "import pandas as pd\n",
    "import nltk\n",
    "import re\n",
    "import numpy as np\n",
    "from transformers import pipeline\n",
    "import torch\n",
    " \n",
    "emotionModel = torch.load(\"./emotion.pt\")\n",
    " \n",
    "nltk.download('punkt')\n",
    "nltk.download('stopwords')\n",
    "stop_words = nltk.corpus.stopwords.words('english')\n",
    "\n",
    "def normalize_document(doc):\n",
    "    # lower case and remove special characters\\whitespaces\n",
    "    doc = re.sub(r'[^a-zA-Z\\s]', '', doc, re.I|re.A)\n",
    "    doc = doc.lower()\n",
    "    doc = doc.strip()\n",
    "    # tokenize document\n",
    "    tokens = nltk.word_tokenize(doc)\n",
    "    # filter stopwords out of document\n",
    "    filtered_tokens = [token for token in tokens if token not in stop_words]\n",
    "    # re-create document from filtered tokens\n",
    "    doc = ' '.join(filtered_tokens)\n",
    "    return doc\n",
    "\n",
    "def get_top_emotions(text, n=2):\n",
    "    emotions = emotionModel(text)\n",
    "    if emotions and emotions[0]:\n",
    "        # Sorting emotions based on scores in descending order\n",
    "        sorted_emotions = sorted(emotions[0], key=lambda x: x['score'], reverse=True)\n",
    "        # Extracting the top n emotions and their scores\n",
    "        top_emotions = [(emotion.get('label'), emotion.get('score')) for emotion in sorted_emotions[:n]]\n",
    "        return top_emotions\n",
    "    \n",
    "\n",
    "def infer_emotions(given_text):\n",
    "    \n",
    "\n",
    "    primary_emotion = []\n",
    "    secondary_emotion = []\n",
    "    for k in given_text:\n",
    "        given_text = normalize_document(k)\n",
    "        emothon_output = get_top_emotions(k, n=2)\n",
    "        primary_emotion.append(emothon_output[0][0])\n",
    "        secondary_emotion.append(emothon_output[1][0])\n",
    "    \n",
    "\n",
    "    a = list(set(primary_emotion))\n",
    "    b = list(set(secondary_emotion))\n",
    "    check = ['anger','fear', 'joy', 'neutral', 'sadness', 'surprise',]\n",
    "\n",
    "    final_primary_list =[]\n",
    "    for i in check:\n",
    "        if i in a:\n",
    "            final_primary_list.append(1)\n",
    "        else:\n",
    "            final_primary_list.append(0)\n",
    "\n",
    "    final_secondary_list =[]\n",
    "    for i in check:\n",
    "        if i in b:\n",
    "            final_secondary_list.append(1)\n",
    "        else:\n",
    "            final_secondary_list.append(0)\n",
    "    return final_primary_list + final_secondary_list"
   ]
  },
  {
   "cell_type": "code",
   "execution_count": null,
   "metadata": {},
   "outputs": [],
   "source": []
  },
  {
   "cell_type": "code",
   "execution_count": 16,
   "metadata": {},
   "outputs": [
    {
     "data": {
      "text/plain": [
       "[0, 0, 1, 0, 0, 0, 0, 0, 0, 1, 0, 0]"
      ]
     },
     "execution_count": 16,
     "metadata": {},
     "output_type": "execute_result"
    }
   ],
   "source": [
    "given_text = [\"he is a good person\"]\n",
    "infer_emotions(given_text)"
   ]
  },
  {
   "cell_type": "code",
   "execution_count": null,
   "metadata": {},
   "outputs": [],
   "source": []
  }
 ],
 "metadata": {
  "kernelspec": {
   "display_name": "intro_python",
   "language": "python",
   "name": "python3"
  },
  "language_info": {
   "codemirror_mode": {
    "name": "ipython",
    "version": 3
   },
   "file_extension": ".py",
   "mimetype": "text/x-python",
   "name": "python",
   "nbconvert_exporter": "python",
   "pygments_lexer": "ipython3",
   "version": "3.10.11"
  }
 },
 "nbformat": 4,
 "nbformat_minor": 2
}
